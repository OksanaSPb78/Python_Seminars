{
  "nbformat": 4,
  "nbformat_minor": 0,
  "metadata": {
    "colab": {
      "provenance": [],
      "authorship_tag": "ABX9TyMZyllbDcBblGr581CsnqQR",
      "include_colab_link": true
    },
    "kernelspec": {
      "name": "python3",
      "display_name": "Python 3"
    },
    "language_info": {
      "name": "python"
    }
  },
  "cells": [
    {
      "cell_type": "markdown",
      "metadata": {
        "id": "view-in-github",
        "colab_type": "text"
      },
      "source": [
        "<a href=\"https://colab.research.google.com/github/OksanaSPb78/Python_Seminars/blob/main/Final_Task_9_option2.ipynb\" target=\"_parent\"><img src=\"https://colab.research.google.com/assets/colab-badge.svg\" alt=\"Open In Colab\"/></a>"
      ]
    },
    {
      "cell_type": "markdown",
      "source": [
        "Задание 44 -Итоговая аттестация:\n",
        "В ячейке ниже представлен код генерирующий DataFrame, которая состоит всего из 1 столбца. Ваша задача перевести его в one hot вид. Сможете ли вы это сделать без get_dummies?\n",
        "\n",
        "import random\n",
        "\n",
        "lst = ['robot'] * 10\n",
        "\n",
        "lst += ['human'] * 10\n",
        "\n",
        "random.shuffle(lst)\n",
        "\n",
        "data = pd.DataFrame({'whoAmI'lst})\n",
        "\n",
        "data.head()"
      ],
      "metadata": {
        "id": "34rb1ufc-SV5"
      }
    },
    {
      "cell_type": "code",
      "execution_count": 4,
      "metadata": {
        "colab": {
          "base_uri": "https://localhost:8080/"
        },
        "id": "EXfS3BbJ-C08",
        "outputId": "f34402fe-26dd-40c4-e2a5-f56b343f0b6d"
      },
      "outputs": [
        {
          "output_type": "stream",
          "name": "stdout",
          "text": [
            "   whoAmI\n",
            "0   robot\n",
            "1   human\n",
            "2   human\n",
            "3   human\n",
            "4   human\n",
            "5   human\n",
            "6   robot\n",
            "7   robot\n",
            "8   robot\n",
            "9   robot\n",
            "10  human\n",
            "11  robot\n",
            "12  robot\n",
            "13  human\n",
            "14  human\n",
            "15  robot\n",
            "16  robot\n",
            "17  human\n",
            "18  human\n",
            "19  robot\n"
          ]
        }
      ],
      "source": [
        "import pandas as pd\n",
        "import random\n",
        "\n",
        "#create DataFrame\n",
        "lst = ['robot'] * 10\n",
        "lst += ['human'] * 10\n",
        "random.shuffle(lst)\n",
        "df = pd.DataFrame({'whoAmI': lst})\n",
        "\n",
        "# df = pd.DataFrame({'team': ['A', 'A', 'B', 'B', 'B', 'B', 'C', 'C'],\n",
        "#  'points': [25, 12, 15, 14, 19, 23, 25, 29]})\n",
        "\n",
        "#view DataFrame\n",
        "print(df)"
      ]
    },
    {
      "cell_type": "code",
      "source": [
        "from sklearn. preprocessing import OneHotEncoder\n",
        "\n",
        "#creating instance of one-hot-encoder\n",
        "encoder = OneHotEncoder(handle_unknown='ignore')\n",
        "\n",
        "#perform one-hot encoding on 'team' column \n",
        "encoder_df = pd.DataFrame(encoder. fit_transform(df[['whoAmI']]). toarray ())\n",
        "\n",
        "#merge one-hot encoded columns back with original DataFrame\n",
        "final_df = df.join (encoder_df)\n",
        "\n",
        "#view final df\n",
        "print(final_df)"
      ],
      "metadata": {
        "colab": {
          "base_uri": "https://localhost:8080/"
        },
        "id": "tTL6dRP1-OIg",
        "outputId": "99a1a21b-d92a-44e4-9485-246f457e1d1b"
      },
      "execution_count": 5,
      "outputs": [
        {
          "output_type": "stream",
          "name": "stdout",
          "text": [
            "   whoAmI    0    1\n",
            "0   robot  0.0  1.0\n",
            "1   human  1.0  0.0\n",
            "2   human  1.0  0.0\n",
            "3   human  1.0  0.0\n",
            "4   human  1.0  0.0\n",
            "5   human  1.0  0.0\n",
            "6   robot  0.0  1.0\n",
            "7   robot  0.0  1.0\n",
            "8   robot  0.0  1.0\n",
            "9   robot  0.0  1.0\n",
            "10  human  1.0  0.0\n",
            "11  robot  0.0  1.0\n",
            "12  robot  0.0  1.0\n",
            "13  human  1.0  0.0\n",
            "14  human  1.0  0.0\n",
            "15  robot  0.0  1.0\n",
            "16  robot  0.0  1.0\n",
            "17  human  1.0  0.0\n",
            "18  human  1.0  0.0\n",
            "19  robot  0.0  1.0\n"
          ]
        }
      ]
    }
  ]
}